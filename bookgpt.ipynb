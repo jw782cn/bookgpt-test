{
 "cells": [
  {
   "cell_type": "code",
   "execution_count": 1,
   "metadata": {},
   "outputs": [],
   "source": [
    "from reading import Book\n",
    "\n",
    "\n",
    "book = Book('data/little_prince.txt')\n",
    "splited_book = book.split_book()"
   ]
  },
  {
   "cell_type": "code",
   "execution_count": 3,
   "metadata": {},
   "outputs": [
    {
     "data": {
      "text/plain": [
       "'Hello! How may I assist you with your book reading?'"
      ]
     },
     "execution_count": 3,
     "metadata": {},
     "output_type": "execute_result"
    }
   ],
   "source": [
    "book.chatgpt.send_message(\"hello\")"
   ]
  },
  {
   "cell_type": "code",
   "execution_count": 2,
   "metadata": {},
   "outputs": [],
   "source": [
    "book.get_info()"
   ]
  },
  {
   "cell_type": "code",
   "execution_count": 1,
   "metadata": {},
   "outputs": [
    {
     "name": "stdout",
     "output_type": "stream",
     "text": [
      "Hello! How may I assist you today with your reading needs?\n"
     ]
    }
   ],
   "source": [
    "from chatgpt import ChatGPT\n",
    "ChatGPT = ChatGPT()\n",
    "print(ChatGPT.send_message(\"hello\"))"
   ]
  },
  {
   "cell_type": "code",
   "execution_count": 5,
   "metadata": {},
   "outputs": [
    {
     "name": "stdout",
     "output_type": "stream",
     "text": [
      "input_variables=['adjective'] output_parser=None partial_variables={} template='Tell me a {adjective} joke.' template_format='f-string' validate_template=True\n"
     ]
    }
   ],
   "source": [
    "from langchain import PromptTemplate\n",
    "\n",
    "# An example prompt with no input variables\n",
    "no_input_prompt = PromptTemplate(input_variables=[], template=\"Tell me a joke.\")\n",
    "no_input_prompt.format()\n",
    "# -> \"Tell me a joke.\"\n",
    "\n",
    "# An example prompt with one input variable\n",
    "one_input_prompt = PromptTemplate(input_variables=[\"adjective\"], template=\"Tell me a {adjective} joke.\")\n",
    "one_input_prompt.format(adjective=\"funny\")\n",
    "print(one_input_prompt)\n",
    "# -> \"Tell me a funny joke.\""
   ]
  },
  {
   "cell_type": "code",
   "execution_count": 5,
   "metadata": {},
   "outputs": [
    {
     "name": "stdout",
     "output_type": "stream",
     "text": [
      "[1] THE LITTLE PRINCE \n",
      "\n",
      "\n",
      "\n",
      "Antoine De Saint-Exupery \n",
      "\n",
      "\n",
      "\n",
      "\n",
      "Antoine de Saint-Exupery, who was a French author, journalist and pilot wrote \n",
      "The Little Prince in 1943, one year before his death. \n",
      "\n",
      "The Little Prince appears to be a simple children’s tale, \n",
      "some would say that it is actually a profound and deeply moving tale, \n",
      "written in riddles and laced with philosophy and poetic metaphor. \n",
      "\n",
      "\n",
      "\n",
      "\n",
      "Once when I was six years old I saw a magnificent picture in a book, called True Stories from \n",
      "Nature, about the primeval forest. It was a picture of a boa constrictor in the act of swallowing an \n",
      "animal. Here is a copy of the drawing. \n",
      "\n",
      "In the book it said: “Boa constrictors swallow their prey whole, without chewing it. After that they \n",
      "are not able to move, and they sleep through the six months that they need for digestion.” I \n",
      "pondered deeply, then, over the adventures of the jungle. And after some work with a coloured \n",
      "pencil I succeeded in making my first drawing. My Drawing Number One. It looked like this: \n",
      "\n",
      "\n",
      "\n",
      "\n",
      "I showed my masterpiece to the grown-ups, and asked them whether the drawing frightened them. \n",
      "But they answered: “Frighten? Why should any one be frightened by a hat?” My drawing was not \n",
      "a picture of a hat. It was a picture of a boa constrictor digesting an elephant. But since the grown- \n",
      "ups were not able to understand it, I made another drawing: I drew the inside of the boa \n",
      "constrictor, so that the grown-ups could see it clearly. They always need to have things explained. \n",
      "\n",
      "\n",
      "\n",
      "My Drawing Number Two looked like this: \n",
      "\n",
      "\n",
      "\n",
      "\n",
      "The grown-ups’ response, this time, was to advise me to lay aside my drawings of boa \n",
      "constrictors, whether from the inside or the outside, and devote myself instead to geography, \n",
      "history, arithmetic and grammar. That is why, at the age of six, I gave up what might have been a \n",
      "magnificent career as a painter. I had been disheartened by the failure of my Drawing Number \n",
      "One and my Drawing Number Two. Grown-ups never understand anything by themselves, and it is \n",
      "tiresome for children to be always and forever explaining things to them. \n",
      "\n",
      "So then I chose another profession, and learned to pilot air-planes. I have flown a little over all \n",
      "parts of the world; and it is true that geography has been very useful to me. At a glance I can \n",
      "distinguish China from Arizona. If one gets lost in the night, such knowledge is valuable. In the \n",
      "course of this life I have had a great many encounters with a great many people who have been \n",
      "concerned with matters of consequence. I have lived a great deal among grown-ups. I have seen \n",
      "them intimately, close at hand. And that hasn’t much improved my opinion of them. \n",
      "\n",
      "Whenever I met one of them who seemed to me at all clear-sighted, I tried the experiment of \n",
      "showing him my Drawing Number One, which I have always kept. I would try to find out, so, if this \n",
      "was a person of true understanding. But, whoever it was, he, or she, would always say: “That is a \n",
      "hat.” Then I would never talk to that person about boa constrictors, or primeval forests, or stars. I \n",
      "would bring myself down to his level. I would talk to him about bridge, and golf, and politics, and \n",
      "neckties. And the grown-up would be greatly pleased to have met such a sensible man. \n",
      "\n",
      "So I lived my life alone, without anyone that I could really talk to, until I had an accident with my \n",
      "plane in the Desert of Sahara, six years ago. Something was broken in my engine. And as I had \n",
      "with me neither a mechanic nor any passengers, I set myself to attempt the difficult repairs all \n",
      "alone. It was a question of life or death for me: I had scarcely enough drinking water to last a \n",
      "week. \n",
      "\n",
      "The first night, then, I went to sleep on the sand, a thousand miles from any human habitation. I \n",
      "was more isolated than a shipwrecked sailor on a raft in the middle of the ocean. Thus you can \n",
      "imagine my amazement, at sunrise, when I was awakened by an odd little voice. \n",
      "\n",
      "\n",
      "\n",
      "\n",
      "It said: “If you please, draw me a sheep!” \n",
      "\n",
      "“What!” \n",
      "\n",
      "“Draw me a sheep!” \n",
      "\n",
      "I jumped to my feet, completely thunderstruck. I blinked my eyes hard. I looked carefully all \n",
      "around me. And I saw a most extraordinary small person, who stood there examining me with \n",
      "great seriousness. Here you may see the best portrait that, later, I was able to make of him. But \n",
      "my drawing is certainly very much less charming than its model. \n",
      "\n",
      "That, however, is not my fault. The grown-ups discouraged me in my painter’s career when I was \n",
      "six years old, and I never learned to draw anything, except boas from the outside and boas from \n",
      "the inside. \n",
      "\n",
      "Now I stared at this sudden apparition with my eyes fairly starting out of my head in \n",
      "astonishment. Remember, I had crashed in the desert a thousand miles from any inhabited region. \n",
      "And yet my little man seemed neither to be straying uncertainly among the sands, nor to be \n",
      "fainting from fatigue or hunger or thirst or fear. Nothing about him gave any suggestion of a child \n",
      "lost in the middle of the desert, a thousand miles from any human habitation. \n",
      "\n",
      "When at last I was able to speak, I said to him: “But, what are you doing here?” And in answer he \n",
      "repeated, very slowly, as if he were speaking of a matter of great consequence: \n",
      "\n",
      "“If you please, draw me a sheep...” \n",
      "\n",
      "When a mystery is too overpowering, one dare not disobey. Absurd as it might seem to me, a \n",
      "thousand miles from any human habitation and in danger of death, I took out of my pocket a sheet \n",
      "of paper and my fountain pen. But then I remembered how my studies had been concentrated on \n",
      "geography, history, arithmetic, and grammar,\n"
     ]
    }
   ],
   "source": [
    "print(splited_book[0])"
   ]
  },
  {
   "cell_type": "code",
   "execution_count": null,
   "metadata": {},
   "outputs": [],
   "source": []
  }
 ],
 "metadata": {
  "kernelspec": {
   "display_name": "base",
   "language": "python",
   "name": "python3"
  },
  "language_info": {
   "codemirror_mode": {
    "name": "ipython",
    "version": 3
   },
   "file_extension": ".py",
   "mimetype": "text/x-python",
   "name": "python",
   "nbconvert_exporter": "python",
   "pygments_lexer": "ipython3",
   "version": "3.9.7"
  },
  "orig_nbformat": 4
 },
 "nbformat": 4,
 "nbformat_minor": 2
}
